{
 "cells": [
  {
   "cell_type": "code",
   "execution_count": 1,
   "id": "0205d97a-cb09-484f-aa89-d0430f902b6c",
   "metadata": {},
   "outputs": [],
   "source": [
    "%matplotlib qt"
   ]
  },
  {
   "cell_type": "code",
   "execution_count": 2,
   "id": "c8acc08e-7599-4063-9658-1f51223f4c66",
   "metadata": {},
   "outputs": [],
   "source": [
    "import lattice_structure_tools"
   ]
  },
  {
   "cell_type": "code",
   "execution_count": 3,
   "id": "93bbb464-4c90-489b-acf4-26c501934a28",
   "metadata": {},
   "outputs": [
    {
     "name": "stderr",
     "output_type": "stream",
     "text": [
      "C:\\Users\\gerit\\miniconda3\\envs\\TopoTEM\\lib\\site-packages\\atomap\\tools.py:919: NumbaDeprecationWarning: \u001b[1mThe 'nopython' keyword argument was not supplied to the 'numba.jit' decorator. The implicit default value for this argument is currently False, but it will be changed to True in Numba 0.59.0. See https://numba.readthedocs.io/en/stable/reference/deprecation.html#deprecation-of-object-mode-fall-back-behaviour-when-using-jit for details.\u001b[0m\n",
      "  @nb.jit()\n"
     ]
    }
   ],
   "source": [
    "import fft_mapping"
   ]
  },
  {
   "cell_type": "code",
   "execution_count": 4,
   "id": "bd4c0c6a-ce78-481d-96f1-d41275a2271f",
   "metadata": {},
   "outputs": [],
   "source": [
    "import polarisation"
   ]
  },
  {
   "cell_type": "code",
   "execution_count": 5,
   "id": "aaa79fd9-f2b5-4443-861f-c555f57c1599",
   "metadata": {},
   "outputs": [],
   "source": [
    "from atomap.initial_position_finding import add_atoms_with_gui\n",
    "from atomap.atom_finding_refining import _make_circular_mask"
   ]
  },
  {
   "cell_type": "code",
   "execution_count": 6,
   "id": "8297b568-6790-484f-80e6-880b0665ccbe",
   "metadata": {},
   "outputs": [],
   "source": [
    "pos_A = [[1,2], [3,4], [5,8], [5,2]]\n",
    "pos_B = [[1,1], [5,2], [3,1], [6,2]]\n",
    "u, v = polarisation.find_polarisation_vectors(pos_A, pos_B, save=None)"
   ]
  },
  {
   "cell_type": "code",
   "execution_count": 7,
   "id": "483a19f7-b6ae-47be-b8e8-937798e5f9e1",
   "metadata": {},
   "outputs": [
    {
     "data": {
      "text/plain": [
       "[0, 2, -2, 1]"
      ]
     },
     "execution_count": 7,
     "metadata": {},
     "output_type": "execute_result"
    }
   ],
   "source": [
    "u"
   ]
  },
  {
   "cell_type": "code",
   "execution_count": 8,
   "id": "67aee901-5f24-4bf2-bce2-37d30c557abc",
   "metadata": {},
   "outputs": [],
   "source": [
    "import atomap.dummy_data as dummy_data"
   ]
  },
  {
   "cell_type": "code",
   "execution_count": 9,
   "id": "06cb8eb3-418d-4843-95a7-44a688188f60",
   "metadata": {},
   "outputs": [],
   "source": [
    "s = dummy_data.get_simple_cubic_signal(image_noise=True)\n",
    "s.plot()"
   ]
  },
  {
   "cell_type": "code",
   "execution_count": 10,
   "id": "e7146b4f-f06c-4590-bf5f-fbbfe87bdf39",
   "metadata": {},
   "outputs": [],
   "source": [
    "from dummy_data import get_polarisation_dummy_dataset"
   ]
  },
  {
   "cell_type": "code",
   "execution_count": 11,
   "id": "db669591-e4da-41a0-af24-ebe887a04afa",
   "metadata": {},
   "outputs": [],
   "source": [
    "atom_lattice = get_polarisation_dummy_dataset(image_noise=True)"
   ]
  },
  {
   "cell_type": "code",
   "execution_count": 12,
   "id": "5ccb0f99-ab0e-4038-9415-a1549939daf3",
   "metadata": {},
   "outputs": [],
   "source": [
    "atom_lattice.plot()"
   ]
  },
  {
   "cell_type": "code",
   "execution_count": null,
   "id": "665a4a01-d9ef-404c-9940-725e72f5df5a",
   "metadata": {},
   "outputs": [],
   "source": []
  }
 ],
 "metadata": {
  "kernelspec": {
   "display_name": "Python 3 (ipykernel)",
   "language": "python",
   "name": "python3"
  },
  "language_info": {
   "codemirror_mode": {
    "name": "ipython",
    "version": 3
   },
   "file_extension": ".py",
   "mimetype": "text/x-python",
   "name": "python",
   "nbconvert_exporter": "python",
   "pygments_lexer": "ipython3",
   "version": "3.10.11"
  }
 },
 "nbformat": 4,
 "nbformat_minor": 5
}
